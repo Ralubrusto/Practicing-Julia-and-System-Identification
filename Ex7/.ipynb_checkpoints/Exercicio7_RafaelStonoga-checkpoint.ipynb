{
 "cells": [
  {
   "cell_type": "markdown",
   "metadata": {},
   "source": [
    " ## EELT 7023 - Tópicos Especiais em Identificação de Sistemas"
   ]
  },
  {
   "cell_type": "markdown",
   "metadata": {},
   "source": [
    "#### Aluno:"
   ]
  },
  {
   "cell_type": "markdown",
   "metadata": {},
   "source": [
    "### $$\\textbf{Exercício 7}$$"
   ]
  },
  {
   "cell_type": "markdown",
   "metadata": {},
   "source": [
    "$\\textbf{Objetivo:}$ Utilizar o conjunto de dados de $\\omega_k$ e $G(j\\omega_k)$ do exercício 5 para estimar modelos utilizando o método de Sanathanan-Koerner (SK). A intenção é avaliar as respostas do método considerando um sistema com ruído gaussiano na entrada.\n",
    "\n",
    "Deseja-se, além disso, avaliar a função custo a cada iteração, de modo a ser possível avaliar a evolução do médodo conforme a passagem das iterações.\n",
    "\n",
    "Apenas para recordar, a função de transferência $G(s)$ é dada por\n",
    "\n",
    "$$G(s) = \\frac{2s}{1+2s+6s^2}$$\n",
    "\n",
    "onde $s$ é a frequência complexa da transformada de Laplace e pode ser substituída por $j\\omega$."
   ]
  },
  {
   "cell_type": "markdown",
   "metadata": {},
   "source": [
    "### DADOS DO SISTEMA REAL"
   ]
  },
  {
   "cell_type": "code",
   "execution_count": 1,
   "metadata": {},
   "outputs": [],
   "source": [
    "# Função para gerar pontos espaçados logaritmicamente\n",
    "LogSpace(start, stop, steps) = [10^i for i in range(log10(start), log10(stop), length=steps)]\n",
    "\n",
    "# Parâmetros da simulação\n",
    "total_points = 1000\n",
    "# Limites de frequência\n",
    "ω_start, ω_stop = 0.01, 10\n",
    "# Coeficientes do numerador e do denominador\n",
    "num = [0, 2]\n",
    "den = [1, 2, 6]\n",
    "\n",
    "function gera_dados(num, den, ω_start, ω_stop, total_points, noise)\n",
    "    # Vetor de frequência\n",
    "    ω =LogSpace(ω_start, ω_stop, total_points)\n",
    "\n",
    "    numerador = zeros(total_points)\n",
    "\n",
    "    # A notação de Julia para valores imaginários é \"im\" no lugar do tradicional \"j\"\n",
    "    for n=1:length(num)\n",
    "        numerador = numerador .+ (ω * 1im).^(n - 1) * num[n];\n",
    "    end\n",
    "\n",
    "    denominador = zeros(total_points);\n",
    "    for d=1:length(den)\n",
    "        denominador = denominador .+ (ω * 1im).^(d - 1) * den[d];\n",
    "    end\n",
    "\n",
    "    G = numerador ./ denominador;\n",
    "    return G + noise * (rand(total_points) + 1im * rand(total_points));\n",
    "end\n",
    "\n",
    "G = gera_dados(num, den, ω_start, ω_stop, total_points, 0.005);"
   ]
  },
  {
   "cell_type": "markdown",
   "metadata": {},
   "source": [
    "Os gráficos a seguir apresentam o ângulo e o módulo do sistema ser identificado, já com o ruído gaussiano inserido."
   ]
  },
  {
   "cell_type": "code",
   "execution_count": 2,
   "metadata": {},
   "outputs": [],
   "source": [
    "G_mag = abs.(G);\n",
    "G_phase = angle.(G) * 180 / pi;"
   ]
  },
  {
   "cell_type": "code",
   "execution_count": 3,
   "metadata": {},
   "outputs": [
    {
     "data": {
      "text/plain": [
       "Plots.PyPlotBackend()"
      ]
     },
     "execution_count": 3,
     "metadata": {},
     "output_type": "execute_result"
    }
   ],
   "source": [
    "# Biblioteca necessária para plotar gráficos\n",
    "using Plots\n",
    "pyplot()"
   ]
  },
  {
   "cell_type": "code",
   "execution_count": 4,
   "metadata": {
    "scrolled": true
   },
   "outputs": [
    {
     "ename": "UndefVarError",
     "evalue": "UndefVarError: ω not defined",
     "output_type": "error",
     "traceback": [
      "UndefVarError: ω not defined",
      "",
      "Stacktrace:",
      " [1] top-level scope at In[4]:1"
     ]
    }
   ],
   "source": [
    "plot_mag = plot(ω, 20*log10.(G_mag), xlabel=\"Frequência (rad/s)\", yaxis=\"Módulo (dB)\", xaxis=:log)\n",
    "plot_pha = plot(ω, G_phase, xlabel=\"Frequência (rad/s)\", yaxis=\"Ângulo (°)\", xaxis=:log)\n",
    "\n",
    "plot(plot_mag, plot_pha, layout=(2,1), legend=false)"
   ]
  },
  {
   "cell_type": "markdown",
   "metadata": {},
   "source": [
    "## ALGORITMO DE SANATHANAN-KOERNER (SK)"
   ]
  },
  {
   "cell_type": "code",
   "execution_count": 5,
   "metadata": {},
   "outputs": [
    {
     "data": {
      "text/plain": [
       "modelo_sk (generic function with 1 method)"
      ]
     },
     "execution_count": 5,
     "metadata": {},
     "output_type": "execute_result"
    }
   ],
   "source": [
    "# Biblioteca necessária para criar matrizes diagonal\n",
    "using LinearAlgebra\n",
    "\n",
    "function modelo_sk(na, nb, G, ω, iter_max)\n",
    "    # Inicializar vetor A_linha\n",
    "    A_linha = ones(length(G))\n",
    "    \n",
    "    # É necessário inicializar o θ aqui para que ele possa ser\n",
    "    # utilizado também fora do loop. O mesmo ocorre com o modelo\n",
    "    θ = nothing\n",
    "    G_modelo = nothing\n",
    "    \n",
    "    for iter = 1:iter_max\n",
    "        # Criação da matriz W\n",
    "        W = Diagonal(1 ./ A_linha)\n",
    "        \n",
    "        # Criação da matriz M\n",
    "        M = Array{Complex{Float64}, 2}(undef, length(G), na + nb + 1)\n",
    "        M[:, 1] .= 1\n",
    "\n",
    "        # Coeficientes relacionados ao numerador\n",
    "        for i=1:nb\n",
    "            m_i = i + 1\n",
    "            M[:, m_i] = (ω * 1im) .^ i\n",
    "        end\n",
    "\n",
    "        # Coeficientes relacionados ao denominador\n",
    "        for i=1:na\n",
    "            m_i = i + nb + 1\n",
    "            M[:, m_i] = -1 * G .* (ω * 1im) .^ i\n",
    "        end\n",
    "        \n",
    "        M = W * M\n",
    "        y = W * G\n",
    "        \n",
    "        # Matrizes adaptadas\n",
    "        M_til = [real(M); imag(M)]\n",
    "        y_til = [real(y); imag(y)]\n",
    "\n",
    "        # Cálculo de theta\n",
    "        θ = M_til \\ y_til\n",
    "\n",
    "        b_array = θ[1:nb+1]\n",
    "        a_array = θ[nb+2:nb+na+1]\n",
    "\n",
    "        # Numerador do modelo obtido\n",
    "        num_til = zeros(length(G))\n",
    "\n",
    "        for n=1:length(b_array)\n",
    "            num_til = num_til + (ω * 1im).^(n - 1) * b_array[n];\n",
    "        end\n",
    "\n",
    "        # Denominador do modelo obtido\n",
    "        den_til = ones(length(G));\n",
    "        for d=1:length(a_array)\n",
    "            den_til = den_til + (ω * 1im) .^ d * a_array[d];\n",
    "        end\n",
    "\n",
    "        G_modelo = num_til ./ den_til;\n",
    "        A_linha = den_til[:]\n",
    "    \n",
    "    end\n",
    "    \n",
    "    return θ, G_modelo\n",
    "end"
   ]
  },
  {
   "cell_type": "markdown",
   "metadata": {},
   "source": [
    "O algoritmo SK padrão foi implementado acima. Afim de avaliar a evolução das primeiras cinco iterações, serão apresentados os resultados para $\\theta$ e para o modelo após cada uma."
   ]
  },
  {
   "cell_type": "code",
   "execution_count": 6,
   "metadata": {},
   "outputs": [
    {
     "data": {
      "text/plain": [
       "plota_modelo (generic function with 1 method)"
      ]
     },
     "execution_count": 6,
     "metadata": {},
     "output_type": "execute_result"
    }
   ],
   "source": [
    "function plota_modelo(na, nb, iter_max)\n",
    "    \n",
    "    \n",
    "    θ, modelo = modelo_sk(na, nb, G, ω, iter_max)\n",
    "\n",
    "    modelo_mag = abs.(modelo)\n",
    "    modelo_pha = angle.(modelo) * 180 / pi\n",
    "\n",
    "    J_til = sum(abs.(modelo - G) .^ 2)\n",
    "    println(\"Valor de J_til é $J_til\")\n",
    "    println(\"Valor de θ é $(round.(θ, digits=6))\")\n",
    "\n",
    "    plot_mag = plot(ω, 20*log10.(G_mag), xlabel=\"Frequência (rad/s)\", \n",
    "                    yaxis=\"Módulo (dB)\", xaxis=:log, label=\"Sistema Real\")\n",
    "    plot!(ω, 20*log10.(modelo_mag), label=\"Modelo\", title=\"Na = $na e Nb = $nb\")\n",
    "\n",
    "    plot_pha = plot(ω, G_phase, xlabel=\"Frequência (rad/s)\", yaxis=\"Ângulo (°)\", \n",
    "                    xaxis=:log, label=\"Sistema Real\")\n",
    "    plot!(ω, modelo_pha, label=\"Modelo\")\n",
    "\n",
    "    plot(plot_mag, plot_pha, layout=(2,1))\n",
    "end"
   ]
  },
  {
   "cell_type": "code",
   "execution_count": 7,
   "metadata": {},
   "outputs": [
    {
     "ename": "UndefVarError",
     "evalue": "UndefVarError: ω not defined",
     "output_type": "error",
     "traceback": [
      "UndefVarError: ω not defined",
      "",
      "Stacktrace:",
      " [1] plota_modelo(::Int64, ::Int64, ::Int64) at .\\In[6]:4",
      " [2] top-level scope at In[7]:1"
     ]
    }
   ],
   "source": [
    "plota_modelo(2, 1, 1)"
   ]
  },
  {
   "cell_type": "code",
   "execution_count": 8,
   "metadata": {},
   "outputs": [
    {
     "ename": "UndefVarError",
     "evalue": "UndefVarError: ω not defined",
     "output_type": "error",
     "traceback": [
      "UndefVarError: ω not defined",
      "",
      "Stacktrace:",
      " [1] plota_modelo(::Int64, ::Int64, ::Int64) at .\\In[6]:4",
      " [2] top-level scope at In[8]:1"
     ]
    }
   ],
   "source": [
    "plota_modelo(2, 1, 2)"
   ]
  },
  {
   "cell_type": "code",
   "execution_count": 9,
   "metadata": {},
   "outputs": [
    {
     "ename": "UndefVarError",
     "evalue": "UndefVarError: ω not defined",
     "output_type": "error",
     "traceback": [
      "UndefVarError: ω not defined",
      "",
      "Stacktrace:",
      " [1] plota_modelo(::Int64, ::Int64, ::Int64) at .\\In[6]:4",
      " [2] top-level scope at In[9]:1"
     ]
    }
   ],
   "source": [
    "plota_modelo(2, 1, 3)"
   ]
  },
  {
   "cell_type": "code",
   "execution_count": 10,
   "metadata": {},
   "outputs": [
    {
     "ename": "UndefVarError",
     "evalue": "UndefVarError: ω not defined",
     "output_type": "error",
     "traceback": [
      "UndefVarError: ω not defined",
      "",
      "Stacktrace:",
      " [1] plota_modelo(::Int64, ::Int64, ::Int64) at .\\In[6]:4",
      " [2] top-level scope at In[10]:1"
     ]
    }
   ],
   "source": [
    "plota_modelo(2, 1, 4)"
   ]
  },
  {
   "cell_type": "code",
   "execution_count": 11,
   "metadata": {},
   "outputs": [
    {
     "ename": "UndefVarError",
     "evalue": "UndefVarError: ω not defined",
     "output_type": "error",
     "traceback": [
      "UndefVarError: ω not defined",
      "",
      "Stacktrace:",
      " [1] plota_modelo(::Int64, ::Int64, ::Int64) at .\\In[6]:4",
      " [2] top-level scope at In[11]:1"
     ]
    }
   ],
   "source": [
    "plota_modelo(2, 1, 5)"
   ]
  },
  {
   "cell_type": "markdown",
   "metadata": {},
   "source": [
    "É possível notar que os modelos a partir da segunda iteração já fornecem valores de $\\theta$ bastante próximos dos valores reais. Porém, nem sempre a função objetivo melhorou na iteração seguinte, o que nos leva à necessidade de observar a evolução da função objetivo ao longo das iterações.\n",
    "\n",
    "Antes disso, porém, deseja-se realizar a estimação dos parâmetros $\\theta$ algumas centenas de vezes, de modo a se obter um resultado médio para diversos valores distintos de ruído.\n",
    "\n",
    "Nessa rodada não levaremos em consideração o critério de convergência. Ao invés disso, faremos o método SK rodar 5 iterações em todos os casos."
   ]
  },
  {
   "cell_type": "code",
   "execution_count": 12,
   "metadata": {},
   "outputs": [
    {
     "ename": "UndefVarError",
     "evalue": "UndefVarError: ω not defined",
     "output_type": "error",
     "traceback": [
      "UndefVarError: ω not defined",
      "",
      "Stacktrace:",
      " [1] top-level scope at .\\In[12]:27"
     ]
    }
   ],
   "source": [
    "# Número de vezes que se deseja rodar o algoritmo\n",
    "rodadas = 1000\n",
    "# Nível de ruído gaussiano\n",
    "noise = 0.005\n",
    "# Número de iterações\n",
    "iter_max = 5\n",
    "\n",
    "\n",
    "# Parâmetros da simulação\n",
    "total_points = 1000\n",
    "# Limites de frequência\n",
    "ω_start, ω_stop = 0.01, 10\n",
    "# Coeficientes do numerador e do denominador\n",
    "num = [0, 2]\n",
    "den = [1, 2, 6] # Primeiro coeficiente precisa ser 1\n",
    "na = length(den) - 1\n",
    "nb = length(num) - 1\n",
    "\n",
    "θ = zeros(na + nb + 1)\n",
    "custo = 0\n",
    "\n",
    "for i = 1:rodadas\n",
    "    # Criação dos dados do sistema\n",
    "    G = gera_dados(num, den, ω_start, ω_stop, total_points, noise)\n",
    "    \n",
    "    # Execução do algoritmo\n",
    "    θ_i, modelo = modelo_sk(na, nb, G, ω, iter_max)\n",
    "\n",
    "    J_til = sum(abs.(modelo - G) .^ 2)\n",
    "\n",
    "    θ = θ + θ_i\n",
    "    custo += J_til\n",
    "end\n",
    "\n",
    "println(\"O valor médio dos parâmetros θ foi:\")\n",
    "println(round.(θ / rodadas, digits=6))\n",
    "println(\"O valor médio da função custo foi de:\")\n",
    "println(custo / rodadas)"
   ]
  },
  {
   "cell_type": "markdown",
   "metadata": {},
   "source": [
    "Por fim, deseja-se obter o valor da função objetivo após cada iteração. Isso será feito por meio de uma redefinição da função `metodo_sk`."
   ]
  },
  {
   "cell_type": "code",
   "execution_count": 13,
   "metadata": {},
   "outputs": [
    {
     "data": {
      "text/plain": [
       "modelo_sk (generic function with 2 methods)"
      ]
     },
     "execution_count": 13,
     "metadata": {},
     "output_type": "execute_result"
    }
   ],
   "source": [
    "# Biblioteca necessária para criar matrizes diagonal\n",
    "using LinearAlgebra\n",
    "\n",
    "function modelo_sk(na, nb, G, ω, iter_max, record_J)\n",
    "    # Inicializar vetor A_linha\n",
    "    A_linha = ones(length(G))\n",
    "    \n",
    "    # É necessário inicializar o θ aqui para que ele possa ser\n",
    "    # utilizado também fora do loop. O mesmo ocorre com o modelo\n",
    "    θ = nothing\n",
    "    G_modelo = nothing\n",
    "    \n",
    "    # Inicializa o vetor J de acordo com a quantidade de iterações\n",
    "    if record_J\n",
    "        J = Array{Float64}(undef, iter_max)\n",
    "    end\n",
    "    \n",
    "    for iter = 1:iter_max\n",
    "        # Criação da matriz W\n",
    "        W = Diagonal(1 ./ A_linha)\n",
    "        \n",
    "        # Criação da matriz M\n",
    "        M = Array{Complex{Float64}, 2}(undef, length(G), na + nb + 1)\n",
    "        M[:, 1] .= 1\n",
    "\n",
    "        # Coeficientes relacionados ao numerador\n",
    "        for i=1:nb\n",
    "            m_i = i + 1\n",
    "            M[:, m_i] = (ω * 1im) .^ i\n",
    "        end\n",
    "\n",
    "        # Coeficientes relacionados ao denominador\n",
    "        for i=1:na\n",
    "            m_i = i + nb + 1\n",
    "            M[:, m_i] = -1 * G .* (ω * 1im) .^ i\n",
    "        end\n",
    "        \n",
    "        M = W * M\n",
    "        y = W * G\n",
    "        \n",
    "        # Matrizes adaptadas\n",
    "        M_til = [real(M); imag(M)]\n",
    "        y_til = [real(y); imag(y)]\n",
    "\n",
    "        # Cálculo de theta\n",
    "        θ = M_til \\ y_til\n",
    "\n",
    "        b_array = θ[1:nb+1]\n",
    "        a_array = θ[nb+2:nb+na+1]\n",
    "\n",
    "        # Numerador do modelo obtido\n",
    "        num_til = zeros(length(G))\n",
    "\n",
    "        for n=1:length(b_array)\n",
    "            num_til = num_til + (ω * 1im).^(n - 1) * b_array[n];\n",
    "        end\n",
    "\n",
    "        # Denominador do modelo obtido\n",
    "        den_til = ones(length(G));\n",
    "        for d=1:length(a_array)\n",
    "            den_til = den_til + (ω * 1im) .^ d * a_array[d];\n",
    "        end\n",
    "           \n",
    "        G_modelo = num_til ./ den_til;\n",
    "        A_linha = den_til[:]\n",
    "        \n",
    "        if record_J\n",
    "            J[iter] = sum(abs.(G_modelo - G) .^ 2)\n",
    "        end\n",
    "    \n",
    "    end\n",
    "    \n",
    "    if record_J\n",
    "        return θ, G_modelo, J\n",
    "    else\n",
    "        return θ, G_modelo\n",
    "    end\n",
    "end"
   ]
  },
  {
   "cell_type": "code",
   "execution_count": 14,
   "metadata": {},
   "outputs": [
    {
     "ename": "UndefVarError",
     "evalue": "UndefVarError: ω not defined",
     "output_type": "error",
     "traceback": [
      "UndefVarError: ω not defined",
      "",
      "Stacktrace:",
      " [1] top-level scope at In[14]:16"
     ]
    }
   ],
   "source": [
    "# Nível de ruído gaussiano\n",
    "noise = 0.005\n",
    "# Número de iterações\n",
    "iter_max = 10\n",
    "\n",
    "total_points = 1000\n",
    "# Limites de frequência\n",
    "ω_start, ω_stop = 0.01, 10\n",
    "# Coeficientes do numerador e do denominador\n",
    "num = [0, 2]\n",
    "den = [1, 2, 6] # Primeiro coeficiente precisa ser 1\n",
    "na = length(den) - 1\n",
    "nb = length(num) - 1\n",
    "\n",
    "G = gera_dados(num, den, ω_start, ω_stop, total_points, noise)\n",
    "\n",
    "θ, modelo, J = modelo_sk(na, nb, G, ω, iter_max, true)\n",
    "\n",
    "# plot(J, ylabel=\"Função Objetivo\", xlabel=\"Iteração\", legend=false)\n",
    "\n",
    "using Formatting\n",
    "for i = 1:length(J)\n",
    "    printfmtln(\"Iteração {:<3}: {:1.18e}\", i, J[i])\n",
    "end"
   ]
  },
  {
   "cell_type": "markdown",
   "metadata": {},
   "source": [
    "Como a diferença entre as iterações é muito pequena a partir da segunda iteração, optou-se por apresentar os valores por extenso. Assim, é possível notar que nem sempre um maior número de iterações corresponde a um melhor resultado.\n",
    "\n",
    "Para concluir as análises referentes a esse método, realizou-se novamente a execução do algoritmo SK 1000 vezes de modo a se obter o valor médio da função custo para as diferentes iterações."
   ]
  },
  {
   "cell_type": "code",
   "execution_count": 15,
   "metadata": {},
   "outputs": [
    {
     "ename": "UndefVarError",
     "evalue": "UndefVarError: ω not defined",
     "output_type": "error",
     "traceback": [
      "UndefVarError: ω not defined",
      "",
      "Stacktrace:",
      " [1] top-level scope at .\\In[15]:27"
     ]
    }
   ],
   "source": [
    "# Número de vezes que se deseja rodar o algoritmo\n",
    "rodadas = 1000\n",
    "# Nível de ruído gaussiano\n",
    "noise = 0.005\n",
    "# Número de iterações\n",
    "iter_max = 20\n",
    "\n",
    "\n",
    "# Parâmetros da simulação\n",
    "total_points = 1000\n",
    "# Limites de frequência\n",
    "ω_start, ω_stop = 0.01, 10\n",
    "# Coeficientes do numerador e do denominador\n",
    "num = [0, 2]\n",
    "den = [1, 2, 6] # Primeiro coeficiente precisa ser 1\n",
    "na = length(den) - 1\n",
    "nb = length(num) - 1\n",
    "\n",
    "θ = zeros(na + nb + 1)\n",
    "custo = zeros(iter_max)\n",
    "\n",
    "for i = 1:rodadas\n",
    "    # Criação dos dados do sistema\n",
    "    G = gera_dados(num, den, ω_start, ω_stop, total_points, noise)\n",
    "    \n",
    "    # Execução do algoritmo\n",
    "    θ_i, modelo, J_til = modelo_sk(na, nb, G, ω, iter_max, true)\n",
    "\n",
    "    θ = θ + θ_i\n",
    "    custo += J_til\n",
    "end\n",
    "\n",
    "println(\"O valor médio dos parâmetros θ foi:\")\n",
    "println(round.(θ / rodadas, digits=6))\n",
    "\n",
    "custo = custo / rodadas\n",
    "\n",
    "# Valor médio da função objetivo após 1000 rodadas do algoritmo\n",
    "for i = 1:length(custo)\n",
    "    printfmtln(\"Iteração {:<3}: {:1.18e}\", i, custo[i])\n",
    "end"
   ]
  },
  {
   "cell_type": "markdown",
   "metadata": {},
   "source": [
    "É possível notar que na terceira iteração o modelo atingiu, na média, o melhor resultado. Da quarta iteração em diante há oscilações no valor da função custo, mesmo que sejam da ordem de $10^{-18}$. Da iteração 6 em diante há certa estabilidade, pois os valores médios assumem apenas dois valores distintos.\n",
    "\n",
    "Claro que esse resultado em específico é fruto dos parâmetros escolhidos, tanto o nível de ruído quanto o valor inicial atribuído para o vetor $A_{linha}$.\n",
    "\n",
    "Além disso, diferentes ordens de modelo (diferentes valores de $na$ e $nb$) também devem levar a diferentes resultados, tanto em relação aos parâmetros $\\theta$ quanto em relação à função objetivo.\n",
    "\n",
    "Por conta disso, este exercício se limitou à análise de um caso em específico: estimativa inicial nula para os parâmetros do vetor $A_{linha}$ e valores de $na$ e $nb$ iguais aos do sistema real a ser modelado."
   ]
  }
 ],
 "metadata": {
  "kernelspec": {
   "display_name": "Julia 1.4.2",
   "language": "julia",
   "name": "julia-1.4"
  },
  "language_info": {
   "file_extension": ".jl",
   "mimetype": "application/julia",
   "name": "julia",
   "version": "1.4.2"
  }
 },
 "nbformat": 4,
 "nbformat_minor": 4
}
